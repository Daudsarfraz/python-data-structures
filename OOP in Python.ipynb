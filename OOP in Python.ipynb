{
 "cells": [
  {
   "cell_type": "markdown",
   "id": "f28b1a11",
   "metadata": {},
   "source": [
    "# OOP Concepts in Python"
   ]
  },
  {
   "cell_type": "markdown",
   "id": "30391b85",
   "metadata": {},
   "source": [
    "In Python creating a class with a constructor is easy and simple with a minor difference: ```self```\n",
    "\n",
    "\n",
    "To access member variables and methods, you must always use ```self```. This's not optional as in other programming languages."
   ]
  },
  {
   "cell_type": "code",
   "execution_count": null,
   "id": "f69f0c43",
   "metadata": {},
   "outputs": [],
   "source": []
  }
 ],
 "metadata": {
  "kernelspec": {
   "display_name": "Python 3 (ipykernel)",
   "language": "python",
   "name": "python3"
  },
  "language_info": {
   "codemirror_mode": {
    "name": "ipython",
    "version": 3
   },
   "file_extension": ".py",
   "mimetype": "text/x-python",
   "name": "python",
   "nbconvert_exporter": "python",
   "pygments_lexer": "ipython3",
   "version": "3.11.5"
  }
 },
 "nbformat": 4,
 "nbformat_minor": 5
}
