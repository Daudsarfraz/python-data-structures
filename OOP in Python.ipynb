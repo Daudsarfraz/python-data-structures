{
 "cells": [
  {
   "cell_type": "markdown",
   "id": "f28b1a11",
   "metadata": {},
   "source": [
    "# OOP Concepts in Python"
   ]
  },
  {
   "cell_type": "markdown",
   "id": "30391b85",
   "metadata": {},
   "source": [
    "In Python creating a class with a constructor is easy and simple with a minor difference: ```self``` <br>\n",
    "```__init__```method in Python is used to initialize objects of a class. It is also called a constructor.\n",
    "\n",
    "\n",
    "\n",
    "To access member variables and methods, you must always use ```self```. This's not optional as in other programming languages. <br>\n",
    "\n",
    "```class and def ``` are keywords. <br>\n",
    "Constructor are defined using a special function ```__init__(self, parameter1, parameter2, ...... )``` <br> \n",
    "We use ```self```to access the instance inside the method of that ```class```<br>\n",
    "There're two underscores in start and two at end. That's why also called ```Dunder function``` too. <br>\n",
    "Python constructor ```do not have any input parameter type and return type```"
   ]
  },
  {
   "cell_type": "code",
   "execution_count": 188,
   "id": "8deac820",
   "metadata": {},
   "outputs": [
    {
     "data": {
      "text/plain": [
       "['__abs__',\n",
       " '__add__',\n",
       " '__and__',\n",
       " '__bool__',\n",
       " '__ceil__',\n",
       " '__class__',\n",
       " '__delattr__',\n",
       " '__dir__',\n",
       " '__divmod__',\n",
       " '__doc__',\n",
       " '__eq__',\n",
       " '__float__',\n",
       " '__floor__',\n",
       " '__floordiv__',\n",
       " '__format__',\n",
       " '__ge__',\n",
       " '__getattribute__',\n",
       " '__getnewargs__',\n",
       " '__getstate__',\n",
       " '__gt__',\n",
       " '__hash__',\n",
       " '__index__',\n",
       " '__init__',\n",
       " '__init_subclass__',\n",
       " '__int__',\n",
       " '__invert__',\n",
       " '__le__',\n",
       " '__lshift__',\n",
       " '__lt__',\n",
       " '__mod__',\n",
       " '__mul__',\n",
       " '__ne__',\n",
       " '__neg__',\n",
       " '__new__',\n",
       " '__or__',\n",
       " '__pos__',\n",
       " '__pow__',\n",
       " '__radd__',\n",
       " '__rand__',\n",
       " '__rdivmod__',\n",
       " '__reduce__',\n",
       " '__reduce_ex__',\n",
       " '__repr__',\n",
       " '__rfloordiv__',\n",
       " '__rlshift__',\n",
       " '__rmod__',\n",
       " '__rmul__',\n",
       " '__ror__',\n",
       " '__round__',\n",
       " '__rpow__',\n",
       " '__rrshift__',\n",
       " '__rshift__',\n",
       " '__rsub__',\n",
       " '__rtruediv__',\n",
       " '__rxor__',\n",
       " '__setattr__',\n",
       " '__sizeof__',\n",
       " '__str__',\n",
       " '__sub__',\n",
       " '__subclasshook__',\n",
       " '__truediv__',\n",
       " '__trunc__',\n",
       " '__xor__',\n",
       " 'as_integer_ratio',\n",
       " 'bit_count',\n",
       " 'bit_length',\n",
       " 'conjugate',\n",
       " 'denominator',\n",
       " 'from_bytes',\n",
       " 'imag',\n",
       " 'numerator',\n",
       " 'real',\n",
       " 'to_bytes']"
      ]
     },
     "metadata": {},
     "output_type": "display_data"
    }
   ],
   "source": [
    "display(dir(int)) # List of some Dunder methods "
   ]
  },
  {
   "cell_type": "code",
   "execution_count": 189,
   "id": "f69f0c43",
   "metadata": {},
   "outputs": [],
   "source": [
    "class Points:\n",
    "    '''There's is no field point_x and point_y in class but in __init__() we are using. \n",
    "    Because in python we don't declare field/variable in python. we create and use. like x = 5'''\n",
    "\n",
    "    def __init__(self, point_x = 0, point_y = 0):\n",
    "        self.point_x = point_x\n",
    "        self.point_y = point_y"
   ]
  },
  {
   "cell_type": "markdown",
   "id": "5e2831cb",
   "metadata": {},
   "source": [
    "creating instance of class. just use class name and () like ```Points()``` constructor will called. No values are passed because by default 0 and 0 are present in ```__init__()``` and no need to pass ```self``` as parameter it passed ```Automatically``` otherwise <b>Error</b> <br>\n",
    "Now object is created and saved into a variable ```p```\n",
    "A variable which stores an Object is called ```Reference Variable```."
   ]
  },
  {
   "cell_type": "code",
   "execution_count": 190,
   "id": "66934c00",
   "metadata": {},
   "outputs": [
    {
     "name": "stdout",
     "output_type": "stream",
     "text": [
      "<__main__.Points object at 0x727b8fb23950>\n",
      "point_x =  0\n",
      "point_y =  0\n"
     ]
    }
   ],
   "source": [
    "p = Points()  # Point() is object as p is pointing to this Object it looks like pointer but in PYTHON NO Pointer\n",
    "print(p) # Will print address of Object Points() like <__main__.Points object at 0x727ba44941d0>\n",
    "\n",
    "print(\"point_x = \", p.point_x) # By default 0 so 0 will printed\n",
    "print(\"point_y = \", p.point_y) # By default 0 so 0 will printed"
   ]
  },
  {
   "cell_type": "code",
   "execution_count": 191,
   "id": "844df8e0",
   "metadata": {},
   "outputs": [
    {
     "name": "stdout",
     "output_type": "stream",
     "text": [
      "<__main__.Points object at 0x727b8f3eb090>\n",
      "point_x =  200\n",
      "point_y =  400\n"
     ]
    }
   ],
   "source": [
    "p = Points(200, 400) \n",
    "print(p) # Will print address of Object Points()\n",
    "print(\"point_x = \", p.point_x) # According to passed parameter\n",
    "print(\"point_y = \", p.point_y) # According to passed parameter"
   ]
  },
  {
   "cell_type": "code",
   "execution_count": 192,
   "id": "da4a31ad",
   "metadata": {},
   "outputs": [
    {
     "name": "stdout",
     "output_type": "stream",
     "text": [
      "<__main__.Points object at 0x727b8f3eb090>\n"
     ]
    }
   ],
   "source": [
    "print(p) # printing address now i want to print fields too so __str__()"
   ]
  },
  {
   "cell_type": "code",
   "execution_count": 193,
   "id": "1568056a",
   "metadata": {},
   "outputs": [],
   "source": [
    "class Points:\n",
    "    '''There's is no field point_x and point_y in class but in __init__() we are using. \n",
    "    Because in python we don't declare field/variable in python. we create and use. like x = 5'''\n",
    "\n",
    "    def __init__(self, point_x = 0, point_y = 0):\n",
    "        self.point_x = point_x\n",
    "        self.point_y = point_y\n",
    "        \n",
    "    def __str__(self):\n",
    "        return \"[\" + str(self.point_x) + \" \" + str(self.point_y) + \"]\""
   ]
  },
  {
   "cell_type": "code",
   "execution_count": 194,
   "id": "d800a61e",
   "metadata": {},
   "outputs": [],
   "source": [
    "p = Points(100, 500)"
   ]
  },
  {
   "cell_type": "code",
   "execution_count": 195,
   "id": "0af7a939",
   "metadata": {},
   "outputs": [
    {
     "data": {
      "text/plain": [
       "<__main__.Points at 0x727b8f119310>"
      ]
     },
     "execution_count": 195,
     "metadata": {},
     "output_type": "execute_result"
    }
   ],
   "source": [
    "p # will print address so added __str__() function returns string representation of the Objec"
   ]
  },
  {
   "cell_type": "code",
   "execution_count": 196,
   "id": "66dfde13",
   "metadata": {},
   "outputs": [
    {
     "name": "stdout",
     "output_type": "stream",
     "text": [
      "[100 500]\n"
     ]
    }
   ],
   "source": [
    "print(p) # __str__ is called by default"
   ]
  },
  {
   "cell_type": "code",
   "execution_count": 197,
   "id": "f081c713",
   "metadata": {},
   "outputs": [
    {
     "data": {
      "text/plain": [
       "'[100 500]'"
      ]
     },
     "execution_count": 197,
     "metadata": {},
     "output_type": "execute_result"
    }
   ],
   "source": [
    "p.__str__() # calling manually "
   ]
  },
  {
   "cell_type": "code",
   "execution_count": 198,
   "id": "429ca7fc",
   "metadata": {},
   "outputs": [],
   "source": [
    "class Points:\n",
    "    '''There's is no field point_x and point_y in class but in __init__() we are using. \n",
    "    Because in python we don't declare field/variable in python. we create and use. like x = 5'''\n",
    "\n",
    "    def __init__(self, point_x = 0, point_y = 0):\n",
    "        self.point_x = point_x\n",
    "        self.point_y = point_y\n",
    "        \n",
    "    # If we define 2nd __init__() upper will be removed because there's NO OVERLOADING in Python\n",
    "    \n",
    "    def __init__(self, point_x = 100, point_y = 10):\n",
    "        pass # because don't have function body it's NOP (No Operation) if not write pass there will be an Error\n",
    "        \n",
    "    def __init__(self, point_x = 1000, point_y = 10):\n",
    "        self.point_x = point_x\n",
    "        self.point_y = point_y\n",
    "        # It's OVERWRITTING in Python\n",
    "    def __str__(self):\n",
    "        return \"[\" + str(self.point_x) + \" \" + str(self.point_y) + \"]\""
   ]
  },
  {
   "cell_type": "code",
   "execution_count": 199,
   "id": "03c37e9f",
   "metadata": {},
   "outputs": [
    {
     "name": "stdout",
     "output_type": "stream",
     "text": [
      "[1000 10]\n"
     ]
    }
   ],
   "source": [
    "p1 = Points()\n",
    "print(p1)"
   ]
  },
  {
   "cell_type": "code",
   "execution_count": 200,
   "id": "84b74e12",
   "metadata": {},
   "outputs": [],
   "source": [
    "# Why write self.point_x??\n",
    "# In python we say Explicit over Implicit. Mean if there are chances of Ambiguity use self.\n",
    "# There's posibilty it can be globle/local so use self.point. It's NOT optional. In necessary.\n",
    "\n",
    "\n",
    "# See Example below"
   ]
  },
  {
   "cell_type": "code",
   "execution_count": 207,
   "id": "1b49fc46",
   "metadata": {},
   "outputs": [],
   "source": [
    "class Points:\n",
    "    '''There's is no field point_x and point_y in class but in __init__() we are using. \n",
    "    Because in python we don't declare field/variable in python. we create and use. like x = 5'''\n",
    "    point_x = 8888\n",
    "    def __init__(self, point_x = 0, point_y = 0):\n",
    "        self.point_x = point_x\n",
    "        self.point_y = point_y\n",
    "        \n",
    "    # If we define 2nd __init__() upper will be removed because there's NO OVERLOADING in Python\n",
    "    \n",
    "    def __init__(self, point_x = 100, point_y = 10):\n",
    "        pass # because don't have function body it's NOP (No Operation) if not write pass there will be an Error\n",
    "        \n",
    "    def __init__(self, point_x = 1000, point_y = 10):\n",
    "        self.point_x = point_x\n",
    "        self.point_y = point_y\n",
    "        # It's OVERWRITTING in Python\n",
    "    def __str__(self):\n",
    "        point_x = 99999\n",
    "\n",
    "        return \"[\" + str(self.point_x) + \" \" + str(self.point_y) + \"]\""
   ]
  },
  {
   "cell_type": "code",
   "execution_count": 208,
   "id": "1ca041af",
   "metadata": {},
   "outputs": [],
   "source": [
    "p2 = Points()"
   ]
  },
  {
   "cell_type": "code",
   "execution_count": 209,
   "id": "da863690",
   "metadata": {},
   "outputs": [
    {
     "name": "stdout",
     "output_type": "stream",
     "text": [
      "[1000 10]\n"
     ]
    }
   ],
   "source": [
    "print(p2) # will print passed or given by default "
   ]
  },
  {
   "cell_type": "markdown",
   "id": "af89a855",
   "metadata": {},
   "source": [
    "# Compostion\n",
    "In Python, composition is implemented by including instances of other classes as attributes within a class."
   ]
  },
  {
   "cell_type": "code",
   "execution_count": 210,
   "id": "c93f458d",
   "metadata": {},
   "outputs": [],
   "source": [
    "class Points:\n",
    "    '''There's is no field point_x and point_y in class but in __init__() we are using. \n",
    "    Because in python we don't declare field/variable in python. we create and use. like x = 5'''\n",
    "    point_x = 8888\n",
    "    def __init__(self, point_x = 0, point_y = 0):\n",
    "        self.point_x = point_x\n",
    "        self.point_y = point_y\n",
    "        \n",
    "    def __str__(self):\n",
    "        return \"[\" + str(self.point_x) + \" \" + str(self.point_y) + \"]\""
   ]
  },
  {
   "cell_type": "code",
   "execution_count": 216,
   "id": "ce02103d",
   "metadata": {},
   "outputs": [],
   "source": [
    "class Shape:\n",
    "    def __init__(self, points):\n",
    "        self.points = points\n",
    "        \n",
    "    def __str__(self):\n",
    "        quote = \" \"\n",
    "        \n",
    "        for i in self.points:\n",
    "            quote += str(i) + \"-\"\n",
    "            \n",
    "            return quote"
   ]
  },
  {
   "cell_type": "code",
   "execution_count": 217,
   "id": "e65c78b8",
   "metadata": {},
   "outputs": [],
   "source": [
    "p3 = Points(3,5)\n",
    "p4 = Points(30, 50)\n",
    "p5 = Points(300,500)\n",
    "p6 = Points(3000, 5000)\n",
    "\n",
    "pp = [p3, p4, p5, p6]\n",
    "\n",
    "sh = Shape(pp)"
   ]
  },
  {
   "cell_type": "code",
   "execution_count": 218,
   "id": "a5c5ba51",
   "metadata": {},
   "outputs": [
    {
     "name": "stdout",
     "output_type": "stream",
     "text": [
      " [3 5]-\n"
     ]
    }
   ],
   "source": [
    "print(sh)"
   ]
  },
  {
   "cell_type": "code",
   "execution_count": null,
   "id": "6610999d",
   "metadata": {},
   "outputs": [],
   "source": []
  },
  {
   "cell_type": "code",
   "execution_count": null,
   "id": "591d8a8c",
   "metadata": {},
   "outputs": [],
   "source": []
  }
 ],
 "metadata": {
  "kernelspec": {
   "display_name": "Python 3 (ipykernel)",
   "language": "python",
   "name": "python3"
  },
  "language_info": {
   "codemirror_mode": {
    "name": "ipython",
    "version": 3
   },
   "file_extension": ".py",
   "mimetype": "text/x-python",
   "name": "python",
   "nbconvert_exporter": "python",
   "pygments_lexer": "ipython3",
   "version": "3.11.5"
  }
 },
 "nbformat": 4,
 "nbformat_minor": 5
}
