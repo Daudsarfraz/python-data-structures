{
 "cells": [
  {
   "cell_type": "markdown",
   "id": "f28b1a11",
   "metadata": {},
   "source": [
    "# OOP Concepts in Python"
   ]
  },
  {
   "cell_type": "markdown",
   "id": "30391b85",
   "metadata": {},
   "source": [
    "In Python creating a class with a constructor is easy and simple with a minor difference: ```self```\n",
    "\n",
    "\n",
    "To access member variables and methods, you must always use ```self```. This's not optional as in other programming languages.\n",
    "\n",
    "Constructor are defined using a special function ```__init__(self, parameter1, parameter2, ...... )``` <br>\n",
    "```class and def ``` are keywords"
   ]
  },
  {
   "cell_type": "code",
   "execution_count": 1,
   "id": "f69f0c43",
   "metadata": {},
   "outputs": [],
   "source": [
    "class Points:\n",
    "    def __init__(self, point_x = 0, point_y = 0):\n",
    "        self.point_x = point_x\n",
    "        self.point_y = point_y"
   ]
  },
  {
   "cell_type": "code",
   "execution_count": 2,
   "id": "81f45f4f",
   "metadata": {},
   "outputs": [],
   "source": [
    "p = Points()"
   ]
  },
  {
   "cell_type": "code",
   "execution_count": 3,
   "id": "e559db3d",
   "metadata": {},
   "outputs": [
    {
     "name": "stdout",
     "output_type": "stream",
     "text": [
      "<__main__.Points object at 0x727bb428c4d0>\n"
     ]
    }
   ],
   "source": [
    "print(p)"
   ]
  },
  {
   "cell_type": "code",
   "execution_count": 13,
   "id": "1875b2d8",
   "metadata": {},
   "outputs": [
    {
     "data": {
      "text/plain": [
       "45"
      ]
     },
     "execution_count": 13,
     "metadata": {},
     "output_type": "execute_result"
    }
   ],
   "source": [
    "p.point_x"
   ]
  },
  {
   "cell_type": "code",
   "execution_count": 14,
   "id": "5f403d67",
   "metadata": {},
   "outputs": [
    {
     "data": {
      "text/plain": [
       "4545"
      ]
     },
     "execution_count": 14,
     "metadata": {},
     "output_type": "execute_result"
    }
   ],
   "source": [
    "p.point_y"
   ]
  },
  {
   "cell_type": "code",
   "execution_count": 15,
   "id": "29851267",
   "metadata": {},
   "outputs": [],
   "source": [
    "p = Points(45,4545)"
   ]
  },
  {
   "cell_type": "code",
   "execution_count": null,
   "id": "1d76809b",
   "metadata": {},
   "outputs": [],
   "source": []
  },
  {
   "cell_type": "code",
   "execution_count": null,
   "id": "7c7b1a4c",
   "metadata": {},
   "outputs": [],
   "source": []
  }
 ],
 "metadata": {
  "kernelspec": {
   "display_name": "Python 3 (ipykernel)",
   "language": "python",
   "name": "python3"
  },
  "language_info": {
   "codemirror_mode": {
    "name": "ipython",
    "version": 3
   },
   "file_extension": ".py",
   "mimetype": "text/x-python",
   "name": "python",
   "nbconvert_exporter": "python",
   "pygments_lexer": "ipython3",
   "version": "3.11.5"
  }
 },
 "nbformat": 4,
 "nbformat_minor": 5
}
